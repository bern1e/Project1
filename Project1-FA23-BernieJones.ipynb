{
 "cells": [
  {
   "cell_type": "raw",
   "id": "db767920",
   "metadata": {},
   "source": [
    "# Project 1: Getting Started with Python and pandas\n",
    "\n",
    "## Your name: Bernie Jones\n",
    "\n",
    "### Your collaborators: \n",
    "\n",
    "### Your sources: Utilized GPT for some error troubleshooting and to understand reset_index on Above and Beyond. \n",
    "\n",
    "Due date: Sunday September 10 at 11:59 pm"
   ]
  },
  {
   "cell_type": "code",
   "execution_count": 1,
   "id": "d77a80e4",
   "metadata": {},
   "outputs": [],
   "source": [
    "# Import the necessary packages you need\n",
    "import pandas as pd\n",
    "import numpy as np"
   ]
  },
  {
   "cell_type": "markdown",
   "id": "ec886ae1",
   "metadata": {},
   "source": [
    "### Warmup: Python review\n",
    "\n",
    "1. Create a list of your personal course schedule for this semester that contains the course number and name of the course as a string (i.e. \"CS215: Introduction to Data Science\")"
   ]
  },
  {
   "cell_type": "code",
   "execution_count": 2,
   "id": "a645b568",
   "metadata": {},
   "outputs": [],
   "source": [
    "list_my_schedule = [\"HIST 120 | History & Politics of Mexican Food\", \"MATH 215 | Intro to Data Science\", \"ECON 477 | Environment and Natural Resource Economics\", \"ECON 358 | Corporate Finance\"]"
   ]
  },
  {
   "cell_type": "markdown",
   "id": "d8b0c3fb",
   "metadata": {},
   "source": [
    "2. Write code to iterate through your list of courses and print it out in the following format:\n",
    "\n",
    "```\n",
    "CS215 | Intro to Data Science\n",
    "CS200 | Data Visceralization\n",
    "...\n",
    "```"
   ]
  },
  {
   "cell_type": "code",
   "execution_count": 3,
   "id": "5bdef0dc",
   "metadata": {},
   "outputs": [
    {
     "name": "stdout",
     "output_type": "stream",
     "text": [
      "HIST 120 | History & Politics of Mexican Food\n",
      "MATH 215 | Intro to Data Science\n",
      "ECON 477 | Environment and Natural Resource Economics\n",
      "ECON 358 | Corporate Finance\n"
     ]
    }
   ],
   "source": [
    "for each_class in list_my_schedule:\n",
    "    print(each_class)"
   ]
  },
  {
   "cell_type": "markdown",
   "id": "4089445e",
   "metadata": {},
   "source": [
    "3. Create a dictionary of your personal course schedule for this semester that contains the course numbers (i.e. CS215 or Math215) as the keys and the full course titles (i.e. \"Intro to Data Science) as the values."
   ]
  },
  {
   "cell_type": "code",
   "execution_count": 4,
   "id": "af6fb3f1",
   "metadata": {},
   "outputs": [],
   "source": [
    "dict_my_schedule = {\"HIST 120 |\": \"History & Politics of Mexican Food\", \"MATH 215 |\": \"Intro to Data Science\", \"ECON 477 |\": \"Environment and Natural Resource Economics\", \"ECON 358 |\": \"Corporate Finance\"}"
   ]
  },
  {
   "cell_type": "markdown",
   "id": "e186b994",
   "metadata": {},
   "source": [
    "4. Write code to iterate through your dictionary of courses and print it out in the following format:\n",
    "\n",
    "```\n",
    "CS215 | Intro to Data Science\n",
    "CS200 | Data Visceralization\n",
    "...\n",
    "```"
   ]
  },
  {
   "cell_type": "code",
   "execution_count": 5,
   "id": "efd65166",
   "metadata": {},
   "outputs": [
    {
     "name": "stdout",
     "output_type": "stream",
     "text": [
      "HIST 120 | History & Politics of Mexican Food\n",
      "MATH 215 | Intro to Data Science\n",
      "ECON 477 | Environment and Natural Resource Economics\n",
      "ECON 358 | Corporate Finance\n"
     ]
    }
   ],
   "source": [
    "for each_class_dict in dict_my_schedule:\n",
    "    print (each_class_dict + \" \" + dict_my_schedule[each_class_dict])"
   ]
  },
  {
   "cell_type": "markdown",
   "id": "65816645",
   "metadata": {},
   "source": [
    "### Main Assignment: Analyzing STEM Courses at Whitman as a pandas dataframe\n",
    "\n",
    "1. Open \"STEM Outcomes Grades 2002 - 2018.xlsx\" as a pandas dataframe using the .read_excel() function. Show the .head() and .tail()."
   ]
  },
  {
   "cell_type": "code",
   "execution_count": 6,
   "id": "3e735554",
   "metadata": {},
   "outputs": [],
   "source": [
    "stem_outcomes = pd.read_excel(\"STEM Outcomes Grades 2002 - 2018 (anon).xlsx\")"
   ]
  },
  {
   "cell_type": "code",
   "execution_count": 7,
   "id": "389606b3",
   "metadata": {
    "scrolled": false
   },
   "outputs": [
    {
     "name": "stdout",
     "output_type": "stream",
     "text": [
      "   Unnamed: 0           Student ID    Term  Academic Division Subject  \\\n",
      "0           0  6602904443393593344  2004SP                  2    THTR   \n",
      "1           1  6602904443393593344  2004FA                  2    THTR   \n",
      "2           2 -2039589217076994048  2005SP                  1    SSRA   \n",
      "3           3  5859295354834180096  2007FA                  2     MUS   \n",
      "4           4  5859295354834180096  2008SP                  2     MUS   \n",
      "\n",
      "  Course Number               Course Title  Credits  Grade  \n",
      "0           126        Beginning Acting II        3    4.0  \n",
      "1           225        Intermediate Acting        4    3.7  \n",
      "2           104       Stretch and Strength        1    NaN  \n",
      "3           300  Foreign Diction - Singers        3    4.0  \n",
      "4           252      SpEns:Chamber Singers        1    4.0  \n",
      "       Unnamed: 0           Student ID    Term  Academic Division Subject  \\\n",
      "75800       75800  1051871726049869952  2018SP                  1     POL   \n",
      "75801       75801  1051871726049869952  2018SP                  1     POL   \n",
      "75802       75802  1051871726049869952  2018SP                  1    SSRA   \n",
      "75803       75803  1051871726049869952  2018SP                  4    GENS   \n",
      "75804       75804  3609008991355611136  2018SP                  2     MUS   \n",
      "\n",
      "      Course Number                    Course Title  Credits  Grade  \n",
      "75800           121  Intro Anc& Medieval Pol Theory        4    NaN  \n",
      "75801           201    ST: Oil & Mining in Indian C        4    NaN  \n",
      "75802           257        Intercollegiate Baseball        1    NaN  \n",
      "75803           146                      Encounters        4    NaN  \n",
      "75804           480                     Composition        3    4.0  \n"
     ]
    }
   ],
   "source": [
    "print(stem_outcomes.head())\n",
    "print(stem_outcomes.tail())"
   ]
  },
  {
   "cell_type": "markdown",
   "id": "195c8637",
   "metadata": {},
   "source": [
    "2. How many complete rows of data are there in the file (i.e. no NaNs)? How many columns are there?  What data type is each column?"
   ]
  },
  {
   "cell_type": "code",
   "execution_count": 8,
   "id": "079cd44e",
   "metadata": {},
   "outputs": [
    {
     "name": "stdout",
     "output_type": "stream",
     "text": [
      "(75805, 9)\n",
      "Unnamed: 0             int64\n",
      "Student ID             int64\n",
      "Term                  object\n",
      "Academic Division      int64\n",
      "Subject               object\n",
      "Course Number         object\n",
      "Course Title          object\n",
      "Credits                int64\n",
      "Grade                float64\n",
      "dtype: object\n"
     ]
    }
   ],
   "source": [
    "# YOUR CODE HERE\n",
    "print(stem_outcomes.shape)\n",
    "print(stem_outcomes.dtypes)"
   ]
  },
  {
   "cell_type": "markdown",
   "id": "f6ae65da",
   "metadata": {},
   "source": [
    "3. How many unique student IDs are in the data? Which ID (or IDs) took the most classes in their first year according to this data?"
   ]
  },
  {
   "cell_type": "code",
   "execution_count": 9,
   "id": "128f4e32",
   "metadata": {},
   "outputs": [
    {
     "name": "stdout",
     "output_type": "stream",
     "text": [
      "7136\n"
     ]
    }
   ],
   "source": [
    "#This first line attempts to answer the first question of Question 3. \n",
    "print(len(stem_outcomes.drop_duplicates([\"Student ID\"])))"
   ]
  },
  {
   "cell_type": "code",
   "execution_count": 10,
   "id": "eaa72da5",
   "metadata": {},
   "outputs": [
    {
     "name": "stdout",
     "output_type": "stream",
     "text": [
      "       Unnamed: 0           Student ID    Term  Academic Division Subject  \\\n",
      "18612       18612 -9221645744761652224  2006SP                  2     MUS   \n",
      "18599       18599 -9221645744761652224  2005FA                  4    GENS   \n",
      "18600       18600 -9221645744761652224  2005FA                  1    HIST   \n",
      "18601       18601 -9221645744761652224  2005FA                  3    CHEM   \n",
      "18602       18602 -9221645744761652224  2005FA                  3    CHEM   \n",
      "...           ...                  ...     ...                ...     ...   \n",
      "57136       57136  9218861421211217920  2014FA                  3    CHEM   \n",
      "57135       57135  9218861421211217920  2014FA                  4    GENS   \n",
      "57146       57146  9218861421211217920  2015SP                  1    PSYC   \n",
      "57144       57144  9218861421211217920  2015SP                  1    SSRA   \n",
      "57140       57140  9218861421211217920  2014FA                  1    SSRA   \n",
      "\n",
      "      Course Number                Course Title  Credits  Grade  \n",
      "18612          164H      ElemApplMus: Woodwinds        1    4.0  \n",
      "18599           145     Antiquity and Modernity        4    4.0  \n",
      "18600           109        E Asian Hist to 1600        3    3.0  \n",
      "18601           125           General Chemistry        3    3.7  \n",
      "18602           135     General Chemistry Lab I        1    4.0  \n",
      "...             ...                         ...      ...    ...  \n",
      "57136           125           General Chemistry        3    2.0  \n",
      "57135           145                  Encounters        4    1.0  \n",
      "57146           110  Introduction to Psychology        4    2.0  \n",
      "57144           151        Beginning Volleyball        1    NaN  \n",
      "57140           210         Intermediate Tennis        1    NaN  \n",
      "\n",
      "[75805 rows x 9 columns]\n",
      "Student ID          \n",
      " 4121287127594886144    23\n",
      "-7300308186259233792    21\n",
      "-1792032343924726016    21\n",
      " 4024707576223885824    21\n",
      "-4495242678127288832    21\n",
      "                        ..\n",
      " 7122535951284864000     1\n",
      " 1129832177686873984     1\n",
      "-1411874971982451968     1\n",
      "-1386070221078284032     1\n",
      "-4823663217382008832     1\n",
      "Length: 7136, dtype: int64\n"
     ]
    }
   ],
   "source": [
    "#Verfication of first question of Question 3. \n",
    "print(stem_outcomes.sort_values([\"Student ID\"], ascending = [True]))\n",
    "#Identification of which IDs took the most courses in their first year. \n",
    "print(stem_outcomes.value_counts([\"Student ID\"]))"
   ]
  },
  {
   "cell_type": "markdown",
   "id": "67b6a6f2",
   "metadata": {},
   "source": [
    "4. _Grade points_ are the product of credits and grade (4.0 scale). For example, if a student received a 3.7 grade in a 4 credit class, then the number of grade points earned is 14.8. Add a column to the dataframe called 'Grade Points' and populate it with each row's grade points. _Answer: How is missing data handled?_"
   ]
  },
  {
   "cell_type": "code",
   "execution_count": 11,
   "id": "c4f66881",
   "metadata": {},
   "outputs": [
    {
     "data": {
      "text/plain": [
       "0        12.0\n",
       "1        14.8\n",
       "2         0.0\n",
       "3        12.0\n",
       "4         4.0\n",
       "         ... \n",
       "75800     0.0\n",
       "75801     0.0\n",
       "75802     0.0\n",
       "75803     0.0\n",
       "75804    12.0\n",
       "Name: Grade Points, Length: 75805, dtype: float64"
      ]
     },
     "execution_count": 11,
     "metadata": {},
     "output_type": "execute_result"
    }
   ],
   "source": [
    "stem_outcomes[\"Grade Points\"] = stem_outcomes[\"Grade\"] * stem_outcomes[\"Credits\"]\n",
    "stem_outcomes[\"Grade Points\"].fillna(0)\n",
    "#Missing data will display as NaN and can be replaced via a fill function with a selection to an intended replacement value such as 0. Ommitance of NaN rows is also a potential way to handle things as well. "
   ]
  },
  {
   "cell_type": "markdown",
   "id": "1dcd521c",
   "metadata": {},
   "source": [
    "5. Write a function that takes a single grade, like those in the 'Grade' column, and converts it to a letter (e.g. B+) according to this scale: https://pages.collegeboard.org/how-to-convert-gpa-4.0-scale. Use .apply() (or .map()) on the 'Grade' column to create a new 'Letter Grade' column in your dataframe."
   ]
  },
  {
   "cell_type": "code",
   "execution_count": 12,
   "id": "61c84182",
   "metadata": {},
   "outputs": [
    {
     "data": {
      "text/plain": [
       "0         A+\n",
       "1         A+\n",
       "2        E/F\n",
       "3         A+\n",
       "4          A\n",
       "        ... \n",
       "75800    E/F\n",
       "75801    E/F\n",
       "75802    E/F\n",
       "75803    E/F\n",
       "75804     A+\n",
       "Name: Letter Grade, Length: 75805, dtype: object"
      ]
     },
     "execution_count": 12,
     "metadata": {},
     "output_type": "execute_result"
    }
   ],
   "source": [
    "def grade_conversion(Grade):\n",
    "    if Grade > 4.0:\n",
    "        return \"A+\"\n",
    "    elif Grade == 4.0:\n",
    "        return \"A\"\n",
    "    elif Grade >= 3.7:\n",
    "        return \"A-\"\n",
    "    elif Grade >= 3.3:\n",
    "        return \"B+\"\n",
    "    elif Grade >= 3.0:\n",
    "        return \"B\"\n",
    "    elif Grade >= 2.7:\n",
    "        return \"B-\"\n",
    "    elif Grade >= 2.3:\n",
    "        return \"C+\"\n",
    "    elif Grade >= 2.0:\n",
    "        return \"C\"\n",
    "    elif Grade >= 1.7:\n",
    "        return \"C-\"\n",
    "    elif Grade >= 1.3:\n",
    "        return \"D+\"\n",
    "    elif Grade >= 1.0:\n",
    "        return \"D\"\n",
    "    else:\n",
    "        return \"E/F\"\n",
    "    \n",
    "stem_outcomes[\"Letter Grade\"] = stem_outcomes[\"Grade Points\"].apply(grade_conversion)\n",
    "stem_outcomes[\"Letter Grade\"]"
   ]
  },
  {
   "cell_type": "markdown",
   "id": "6f441b8a",
   "metadata": {},
   "source": [
    "6. Use some of the descriptive and summary statistics function from [Table 5.8 of the textbook](https://wesmckinney.com/book/pandas-basics.html#tbl-table_descriptive_stats) to provide at least 3 insights into some of the numeric columns of data."
   ]
  },
  {
   "cell_type": "code",
   "execution_count": 13,
   "id": "fa05c4f3",
   "metadata": {},
   "outputs": [
    {
     "data": {
      "text/plain": [
       "Course Title\n",
       "(Re)Conquistadores                4.000000\n",
       "19th C Europe, 1815-1914          2.982759\n",
       "19th Century Theatre History      3.650000\n",
       "20C Lit: Jahrhundertwende         4.000000\n",
       "20th C Physics Laboratory         3.148000\n",
       "                                    ...   \n",
       "Writers of Place                  3.700000\n",
       "Writing Environmental Disaster    3.800000\n",
       "Yoga                                   NaN\n",
       "Yoga, Meditation,& Mindfulness    3.533333\n",
       "Zen                               3.000000\n",
       "Name: Grade, Length: 2024, dtype: float64"
      ]
     },
     "execution_count": 13,
     "metadata": {},
     "output_type": "execute_result"
    }
   ],
   "source": [
    "# Average grade of student per each course. \n",
    "stem_outcomes.groupby(\"Course Title\")[\"Grade\"].mean()"
   ]
  },
  {
   "cell_type": "code",
   "execution_count": 14,
   "id": "5b7328eb",
   "metadata": {},
   "outputs": [
    {
     "data": {
      "text/plain": [
       "Student ID\n",
       "-9221645744761652224    3.7\n",
       "-9217337808499395584    3.7\n",
       "-9203431123501972480    2.0\n",
       "-9190750817828926464    3.3\n",
       "-9186388654713535488    4.0\n",
       "                       ... \n",
       " 9187253130835632128    3.0\n",
       " 9188948466012477440    3.0\n",
       " 9202012111058273280    3.3\n",
       " 9213985650394224640    4.0\n",
       " 9218861421211217920    2.0\n",
       "Name: Grade, Length: 2127, dtype: float64"
      ]
     },
     "execution_count": 14,
     "metadata": {},
     "output_type": "execute_result"
    }
   ],
   "source": [
    "#Individual grade of each student that took General Chemistry.\n",
    "df_genchem_grade = stem_outcomes[stem_outcomes[\"Course Title\"] == \"General Chemistry\"]\n",
    "df_genchem_grade.groupby(\"Student ID\")[\"Grade\"].max()"
   ]
  },
  {
   "cell_type": "code",
   "execution_count": 15,
   "id": "39eceb94",
   "metadata": {},
   "outputs": [
    {
     "data": {
      "text/plain": [
       "445"
      ]
     },
     "execution_count": 15,
     "metadata": {},
     "output_type": "execute_result"
    }
   ],
   "source": [
    "#Number of Individual Courses Offered. \n",
    "stem_outcomes[\"Course Number\"].nunique()"
   ]
  },
  {
   "cell_type": "markdown",
   "id": "d32bfadf",
   "metadata": {},
   "source": [
    "7. Above & Beyond. Make an additional analysis or observation about the data using your new-found pandas skills."
   ]
  },
  {
   "cell_type": "code",
   "execution_count": 16,
   "id": "46d84747",
   "metadata": {},
   "outputs": [
    {
     "data": {
      "text/plain": [
       "Student ID\n",
       "-9221645744761652224    3.85\n",
       "-9217337808499395584    3.50\n",
       "-9203431123501972480    3.00\n",
       "-9190750817828926464    3.50\n",
       "-9186388654713535488    3.50\n",
       "                        ... \n",
       " 9187253130835632128    3.50\n",
       " 9188948466012477440    3.50\n",
       " 9202012111058273280    3.15\n",
       " 9213985650394224640    3.85\n",
       " 9218861421211217920    3.00\n",
       "Name: Grade, Length: 2122, dtype: float64"
      ]
     },
     "execution_count": 16,
     "metadata": {},
     "output_type": "execute_result"
    }
   ],
   "source": [
    "#GPA of Students who Took both General Chemistry and General Chemistry Lab 1: Wanted to create a function but was having diffuclty so here is a walkthrough of the process.\n",
    "#Thought this could be interesting to see the effects of a lab component on GPA. \n",
    "genchem_lab = stem_outcomes[stem_outcomes[\"Course Title\"].isin([\"General Chemistry\" , \"General Chemistry Lab I\"])]\n",
    "#Remove Gen Chem 126 as it doesn't seem to match to the lab \n",
    "genchem_pluslab = genchem_lab[genchem_lab[\"Course Number\"] != 126].sort_values(\"Student ID\")\n",
    "#Now match student ID to taking both courses, learned of reset_index  \n",
    "sorted_pluslab = genchem_pluslab.groupby([\"Student ID\", \"Course Title\"])[\"Grade\"].mean().reset_index()\n",
    "#Combining of GPA's \n",
    "mean_gpa = sorted_pluslab.groupby(\"Student ID\")[\"Grade\"].mean()\n",
    "mean_gpa\n",
    "#Am still aware of complex matter that is student's who just took one of the classes, reflected earlier in the code if a print statement is made."
   ]
  },
  {
   "cell_type": "markdown",
   "id": "38273b40",
   "metadata": {},
   "source": [
    "Upload your finished .ipynb file to this Canvas assignment. Here are some tips for a successful submission:\n",
    "* Make sure your code runs without any errors. Code that produces errors will NOT be graded.\n",
    "* Make sure that your comments are clear and comprehensive.\n",
    "* Make sure to include credit to any external sources you used as well as any collaborators."
   ]
  }
 ],
 "metadata": {
  "kernelspec": {
   "display_name": "Python 3 (ipykernel)",
   "language": "python",
   "name": "python3"
  },
  "language_info": {
   "codemirror_mode": {
    "name": "ipython",
    "version": 3
   },
   "file_extension": ".py",
   "mimetype": "text/x-python",
   "name": "python",
   "nbconvert_exporter": "python",
   "pygments_lexer": "ipython3",
   "version": "3.11.4"
  }
 },
 "nbformat": 4,
 "nbformat_minor": 5
}
